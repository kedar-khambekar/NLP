{
 "cells": [
  {
   "cell_type": "code",
   "execution_count": 1,
   "id": "251b4c5c",
   "metadata": {},
   "outputs": [],
   "source": [
    "import nltk"
   ]
  },
  {
   "cell_type": "code",
   "execution_count": 3,
   "id": "9285116a",
   "metadata": {},
   "outputs": [],
   "source": [
    "from gensim.models import Word2Vec"
   ]
  },
  {
   "cell_type": "code",
   "execution_count": 4,
   "id": "aa06f83e",
   "metadata": {},
   "outputs": [],
   "source": [
    "from nltk.corpus import stopwords"
   ]
  },
  {
   "cell_type": "code",
   "execution_count": 5,
   "id": "aea20cdc",
   "metadata": {},
   "outputs": [],
   "source": [
    "import re"
   ]
  },
  {
   "cell_type": "code",
   "execution_count": 6,
   "id": "59f7f9bf",
   "metadata": {},
   "outputs": [],
   "source": [
    "speech= \"\"\"\n",
    "        I have three visions for India. In 3000 years of our history, people from all over the world have come and invaded us, \n",
    "        captured our lands, conquered our minds. From Alexander onwards, the Greeks, the Turks, the Moguls, the Portuguese, \n",
    "        the British, the French, the Dutch, all of them came and looted us, took over what was ours. \n",
    "        Yet we have not done this to any other nation. We have not conquered anyone. \n",
    "        We have not grabbed their land, their culture, their history and tried to enforce our way of life on them. \n",
    "        Why? Because we respect the freedom of others.\n",
    "\n",
    "        That is why my first vision is that of freedom. \n",
    "        I believe that India got its first vision of this in 1857, when we started the War of Independence. \n",
    "        It is this freedom that we must protect and nurture and build on. If we are not free, no one will respect us.\n",
    "\n",
    "        My second vision for India’s development. For fifty years we have been a developing nation.\n",
    "        It is time we see ourselves as a developed nation. We are among the top 5 nations of the world in terms of GDP.\n",
    "        We have a 10 percent growth rate in most areas. Our poverty levels are falling. \n",
    "        Our achievements are being globally recognised today.\n",
    "        Yet we lack the self-confidence to see ourselves as a developed nation, self-reliant and self-assured. \n",
    "        Isn’t this incorrect?\n",
    "        \"\"\""
   ]
  },
  {
   "cell_type": "code",
   "execution_count": 15,
   "id": "b025adfa",
   "metadata": {},
   "outputs": [],
   "source": [
    "corpus=[]"
   ]
  },
  {
   "cell_type": "code",
   "execution_count": 22,
   "id": "f3e9a75a",
   "metadata": {},
   "outputs": [],
   "source": [
    "text=re.sub(r'\\[[0-9]*\\]',' ',speech)\n",
    "text=re.sub(r'\\s+',' ',text)\n",
    "text=text.lower()\n",
    "text=re.sub(r'\\d',' ',text)\n",
    "text=re.sub(r'\\s+',' ',text)"
   ]
  },
  {
   "cell_type": "code",
   "execution_count": 23,
   "id": "1d9c882e",
   "metadata": {},
   "outputs": [],
   "source": [
    "sentences=nltk.sent_tokenize(speech)"
   ]
  },
  {
   "cell_type": "code",
   "execution_count": 24,
   "id": "8e3591cf",
   "metadata": {},
   "outputs": [],
   "source": [
    "words=[nltk.word_tokenize(i) for i in sentences ]"
   ]
  },
  {
   "cell_type": "code",
   "execution_count": 25,
   "id": "4878c8d4",
   "metadata": {},
   "outputs": [],
   "source": [
    "for i in range(len(words)):\n",
    "    words[i]=[i for i in words[i] if i not in stopwords.words('english')]\n",
    "    "
   ]
  },
  {
   "cell_type": "code",
   "execution_count": 26,
   "id": "0464e690",
   "metadata": {},
   "outputs": [
    {
     "data": {
      "text/plain": [
       "[['I', 'three', 'visions', 'India', '.'],\n",
       " ['In',\n",
       "  '3000',\n",
       "  'years',\n",
       "  'history',\n",
       "  ',',\n",
       "  'people',\n",
       "  'world',\n",
       "  'come',\n",
       "  'invaded',\n",
       "  'us',\n",
       "  ',',\n",
       "  'captured',\n",
       "  'lands',\n",
       "  ',',\n",
       "  'conquered',\n",
       "  'minds',\n",
       "  '.'],\n",
       " ['From',\n",
       "  'Alexander',\n",
       "  'onwards',\n",
       "  ',',\n",
       "  'Greeks',\n",
       "  ',',\n",
       "  'Turks',\n",
       "  ',',\n",
       "  'Moguls',\n",
       "  ',',\n",
       "  'Portuguese',\n",
       "  ',',\n",
       "  'British',\n",
       "  ',',\n",
       "  'French',\n",
       "  ',',\n",
       "  'Dutch',\n",
       "  ',',\n",
       "  'came',\n",
       "  'looted',\n",
       "  'us',\n",
       "  ',',\n",
       "  'took',\n",
       "  '.'],\n",
       " ['Yet', 'done', 'nation', '.'],\n",
       " ['We', 'conquered', 'anyone', '.'],\n",
       " ['We',\n",
       "  'grabbed',\n",
       "  'land',\n",
       "  ',',\n",
       "  'culture',\n",
       "  ',',\n",
       "  'history',\n",
       "  'tried',\n",
       "  'enforce',\n",
       "  'way',\n",
       "  'life',\n",
       "  '.'],\n",
       " ['Why', '?'],\n",
       " ['Because', 'respect', 'freedom', 'others', '.'],\n",
       " ['That', 'first', 'vision', 'freedom', '.'],\n",
       " ['I',\n",
       "  'believe',\n",
       "  'India',\n",
       "  'got',\n",
       "  'first',\n",
       "  'vision',\n",
       "  '1857',\n",
       "  ',',\n",
       "  'started',\n",
       "  'War',\n",
       "  'Independence',\n",
       "  '.'],\n",
       " ['It', 'freedom', 'must', 'protect', 'nurture', 'build', '.'],\n",
       " ['If', 'free', ',', 'one', 'respect', 'us', '.'],\n",
       " ['My', 'second', 'vision', 'India', '’', 'development', '.'],\n",
       " ['For', 'fifty', 'years', 'developing', 'nation', '.'],\n",
       " ['It', 'time', 'see', 'developed', 'nation', '.'],\n",
       " ['We', 'among', 'top', '5', 'nations', 'world', 'terms', 'GDP', '.'],\n",
       " ['We', '10', 'percent', 'growth', 'rate', 'areas', '.'],\n",
       " ['Our', 'poverty', 'levels', 'falling', '.'],\n",
       " ['Our', 'achievements', 'globally', 'recognised', 'today', '.'],\n",
       " ['Yet',\n",
       "  'lack',\n",
       "  'self-confidence',\n",
       "  'see',\n",
       "  'developed',\n",
       "  'nation',\n",
       "  ',',\n",
       "  'self-reliant',\n",
       "  'self-assured',\n",
       "  '.'],\n",
       " ['Isn', '’', 'incorrect', '?']]"
      ]
     },
     "execution_count": 26,
     "metadata": {},
     "output_type": "execute_result"
    }
   ],
   "source": [
    "words"
   ]
  },
  {
   "cell_type": "code",
   "execution_count": 35,
   "id": "cb2779a7",
   "metadata": {},
   "outputs": [],
   "source": [
    "model=Word2Vec(words,min_count=2)"
   ]
  },
  {
   "cell_type": "code",
   "execution_count": 36,
   "id": "e186f333",
   "metadata": {},
   "outputs": [
    {
     "data": {
      "text/plain": [
       "{'.': 0,\n",
       " ',': 1,\n",
       " 'nation': 2,\n",
       " 'We': 3,\n",
       " 'India': 4,\n",
       " 'vision': 5,\n",
       " 'freedom': 6,\n",
       " 'us': 7,\n",
       " 'conquered': 8,\n",
       " 'years': 9,\n",
       " 'history': 10,\n",
       " 'world': 11,\n",
       " 'Our': 12,\n",
       " 'Yet': 13,\n",
       " 'developed': 14,\n",
       " '?': 15,\n",
       " 'respect': 16,\n",
       " 'first': 17,\n",
       " 'It': 18,\n",
       " '’': 19,\n",
       " 'see': 20,\n",
       " 'I': 21}"
      ]
     },
     "execution_count": 36,
     "metadata": {},
     "output_type": "execute_result"
    }
   ],
   "source": [
    "model.wv.key_to_index"
   ]
  },
  {
   "cell_type": "code",
   "execution_count": 38,
   "id": "88195d6b",
   "metadata": {},
   "outputs": [],
   "source": [
    "vector=model.wv['nation']"
   ]
  },
  {
   "cell_type": "code",
   "execution_count": 40,
   "id": "db237921",
   "metadata": {},
   "outputs": [
    {
     "data": {
      "text/plain": [
       "(100,)"
      ]
     },
     "execution_count": 40,
     "metadata": {},
     "output_type": "execute_result"
    }
   ],
   "source": [
    "vector.shape"
   ]
  },
  {
   "cell_type": "code",
   "execution_count": 41,
   "id": "ea989ab2",
   "metadata": {},
   "outputs": [
    {
     "data": {
      "text/plain": [
       "array([ 9.4852709e-05,  3.0803857e-03, -6.8109678e-03, -1.3761756e-03,\n",
       "        7.6671820e-03,  7.3435241e-03, -3.6696133e-03,  2.6459263e-03,\n",
       "       -8.3180377e-03,  6.2004514e-03, -4.6352912e-03, -3.1671706e-03,\n",
       "        9.3105529e-03,  8.7112345e-04,  7.4906247e-03, -6.0761622e-03,\n",
       "        5.1619220e-03,  9.9221841e-03, -8.4589478e-03, -5.1402082e-03,\n",
       "       -7.0633362e-03, -4.8611546e-03, -3.7769936e-03, -8.5356273e-03,\n",
       "        7.9533355e-03, -4.8449920e-03,  8.4235827e-03,  5.2606552e-03,\n",
       "       -6.5508992e-03,  3.9581871e-03,  5.4681776e-03, -7.4291672e-03,\n",
       "       -7.4052038e-03, -2.4791784e-03, -8.6264247e-03, -1.5800223e-03,\n",
       "       -4.0069950e-04,  3.3034079e-03,  1.4434690e-03, -8.8126893e-04,\n",
       "       -5.5906228e-03,  1.7279893e-03, -9.0002251e-04,  6.7954180e-03,\n",
       "        3.9738906e-03,  4.5272168e-03,  1.4304866e-03, -2.6983006e-03,\n",
       "       -4.3650088e-03, -1.0292359e-03,  1.4380495e-03, -2.6460616e-03,\n",
       "       -7.0712026e-03, -7.8060082e-03, -9.1224117e-03, -5.9347879e-03,\n",
       "       -1.8424063e-03, -4.3252464e-03, -6.4633507e-03, -3.7157524e-03,\n",
       "        4.2882818e-03, -3.7397819e-03,  8.3793253e-03,  1.5316753e-03,\n",
       "       -7.2419182e-03,  9.4374148e-03,  7.6304693e-03,  5.4939217e-03,\n",
       "       -6.8484792e-03,  5.8186366e-03,  4.0106396e-03,  5.1855887e-03,\n",
       "        4.2576091e-03,  1.9408494e-03, -3.1679650e-03,  8.3572688e-03,\n",
       "        9.6146995e-03,  3.7942319e-03, -2.8369601e-03,  7.3523643e-06,\n",
       "        1.2171080e-03, -8.4568914e-03, -8.2207303e-03, -2.3295562e-04,\n",
       "        1.2368404e-03, -5.7421704e-03, -4.7219754e-03, -7.3437425e-03,\n",
       "        8.3288830e-03,  1.2306556e-04, -4.5056553e-03,  5.7043950e-03,\n",
       "        9.1801621e-03, -4.0985122e-03,  7.9697696e-03,  5.3765508e-03,\n",
       "        5.8784117e-03,  5.0990749e-04,  8.2120448e-03, -7.0193270e-03],\n",
       "      dtype=float32)"
      ]
     },
     "execution_count": 41,
     "metadata": {},
     "output_type": "execute_result"
    }
   ],
   "source": [
    "vector"
   ]
  },
  {
   "cell_type": "code",
   "execution_count": 45,
   "id": "78b4a08e",
   "metadata": {},
   "outputs": [],
   "source": [
    "similar=model.wv.most_similar('history')"
   ]
  },
  {
   "cell_type": "code",
   "execution_count": 46,
   "id": "b69a07a2",
   "metadata": {},
   "outputs": [
    {
     "data": {
      "text/plain": [
       "[('Our', 0.12811169028282166),\n",
       " ('world', 0.1095242127776146),\n",
       " ('us', 0.10894569009542465),\n",
       " ('first', 0.09634559601545334),\n",
       " ('’', 0.0863238200545311),\n",
       " ('.', 0.06308396905660629),\n",
       " ('freedom', 0.050453070551157),\n",
       " ('conquered', 0.026806509122252464),\n",
       " ('vision', 0.020141763612627983),\n",
       " ('years', 0.015087684616446495)]"
      ]
     },
     "execution_count": 46,
     "metadata": {},
     "output_type": "execute_result"
    }
   ],
   "source": [
    "similar"
   ]
  },
  {
   "cell_type": "code",
   "execution_count": null,
   "id": "b9561100",
   "metadata": {},
   "outputs": [],
   "source": []
  }
 ],
 "metadata": {
  "kernelspec": {
   "display_name": "Python 3",
   "language": "python",
   "name": "python3"
  },
  "language_info": {
   "codemirror_mode": {
    "name": "ipython",
    "version": 3
   },
   "file_extension": ".py",
   "mimetype": "text/x-python",
   "name": "python",
   "nbconvert_exporter": "python",
   "pygments_lexer": "ipython3",
   "version": "3.8.8"
  }
 },
 "nbformat": 4,
 "nbformat_minor": 5
}
